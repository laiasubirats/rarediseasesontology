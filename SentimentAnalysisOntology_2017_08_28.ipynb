{
 "cells": [
  {
   "cell_type": "code",
   "execution_count": 31,
   "metadata": {
    "collapsed": false
   },
   "outputs": [],
   "source": [
    "#!pip install -U textblob\n",
    "#!python -m textblob.download_corpora\n",
    "#!pip install -U textblob-aptagger\n",
    "#import textblob\n",
    "import pandas\n",
    "from textblob import TextBlob"
   ]
  },
  {
   "cell_type": "code",
   "execution_count": 32,
   "metadata": {
    "collapsed": true
   },
   "outputs": [],
   "source": [
    "testimonials = pandas.read_table('C:/Users/laia.subirats/Desktop/Scenarios about Rare Diseases_2017_08_28.csv',encoding='ISO-8859-1',sep=';')\n",
    "linea_en_df = pandas.DataFrame(testimonials, columns=['Testimonials'])"
   ]
  },
  {
   "cell_type": "code",
   "execution_count": 33,
   "metadata": {
    "collapsed": false
   },
   "outputs": [],
   "source": [
    "linea_en_df['polarity'] = linea_en_df.apply(lambda x: TextBlob(x['Testimonials']).sentiment.polarity, axis=1)\n",
    "linea_en_df['subjectivity'] = linea_en_df.apply(lambda x: TextBlob(x['Testimonials']).sentiment.subjectivity, axis=1)"
   ]
  },
  {
   "cell_type": "code",
   "execution_count": 34,
   "metadata": {
    "collapsed": false
   },
   "outputs": [],
   "source": [
    "linea_en_df.to_csv(\"C:/Users/laia.subirats/Desktop/Sentiment_testimonials.csv\", sep=';', na_rep='',header=True, encoding='ISO-8859-1')"
   ]
  },
  {
   "cell_type": "code",
   "execution_count": 35,
   "metadata": {
    "collapsed": false
   },
   "outputs": [
    {
     "name": "stdout",
     "output_type": "stream",
     "text": [
      "(-0.15144316972814861, 0.4699050834569567)\n",
      "(-0.020836362616106142, 0.9212506159006304)\n"
     ]
    }
   ],
   "source": [
    "from scipy import stats\n",
    "testimonials = pandas.read_table('C:/Users/laia.subirats/Desktop/Scenarios about Rare Diseases_2017_08_28.csv',encoding='ISO-8859-1',sep=';')\n",
    "testimonials = testimonials.fillna(value=np.mean(testimonials,axis=0),inplace=False,axis=0).values\n",
    "#Age\n",
    "print(stats.pearsonr(testimonials[:,1], testimonials[:,-2]))\n",
    "print(stats.pearsonr(testimonials[:,1], testimonials[:,-1]))"
   ]
  },
  {
   "cell_type": "code",
   "execution_count": 36,
   "metadata": {
    "collapsed": false
   },
   "outputs": [
    {
     "name": "stdout",
     "output_type": "stream",
     "text": [
      "(0.13400359192807407, 0.5230793423110156)\n",
      "(-0.010854530044444227, 0.95893074467414297)\n"
     ]
    }
   ],
   "source": [
    "#Spain\n",
    "print(stats.pearsonr(testimonials[:,3], testimonials[:,-2]))\n",
    "print(stats.pearsonr(testimonials[:,3], testimonials[:,-1]))"
   ]
  },
  {
   "cell_type": "code",
   "execution_count": 37,
   "metadata": {
    "collapsed": false
   },
   "outputs": [
    {
     "name": "stdout",
     "output_type": "stream",
     "text": [
      "(-0.12013416626948521, 0.5673240964360553)\n",
      "(-0.2334999787283018, 0.2612912787279591)\n"
     ]
    }
   ],
   "source": [
    "#Iran\n",
    "print(stats.pearsonr(testimonials[:,4], testimonials[:,-2]))\n",
    "print(stats.pearsonr(testimonials[:,4], testimonials[:,-1]))"
   ]
  },
  {
   "cell_type": "code",
   "execution_count": 38,
   "metadata": {
    "collapsed": false
   },
   "outputs": [
    {
     "name": "stdout",
     "output_type": "stream",
     "text": [
      "(-0.31078895350501834, 0.13050306269360848)\n",
      "(0.4016879149061654, 0.04655245244836808)\n"
     ]
    }
   ],
   "source": [
    "#Age of diagnosis\n",
    "print(stats.pearsonr(testimonials[:,6], testimonials[:,-2]))\n",
    "print(stats.pearsonr(testimonials[:,6], testimonials[:,-1]))"
   ]
  },
  {
   "cell_type": "code",
   "execution_count": 39,
   "metadata": {
    "collapsed": false
   },
   "outputs": [
    {
     "name": "stdout",
     "output_type": "stream",
     "text": [
      "(-0.46507229801555483, 0.019152889390457294)\n",
      "(-0.071418039100824823, 0.73442735247746382)\n"
     ]
    }
   ],
   "source": [
    "#Emotional functions\n",
    "print(stats.pearsonr(testimonials[:,12], testimonials[:,-2]))\n",
    "print(stats.pearsonr(testimonials[:,12], testimonials[:,-1]))"
   ]
  },
  {
   "cell_type": "code",
   "execution_count": 40,
   "metadata": {
    "collapsed": false
   },
   "outputs": [
    {
     "name": "stdout",
     "output_type": "stream",
     "text": [
      "(-0.29826145749101346, 0.1475724009309663)\n",
      "(0.012126569106536365, 0.95412254400471452)\n"
     ]
    }
   ],
   "source": [
    "#Remunerative employment\n",
    "print(stats.pearsonr(testimonials[:,10], testimonials[:,-2]))\n",
    "print(stats.pearsonr(testimonials[:,10], testimonials[:,-1]))"
   ]
  },
  {
   "cell_type": "code",
   "execution_count": null,
   "metadata": {
    "collapsed": true
   },
   "outputs": [],
   "source": []
  }
 ],
 "metadata": {
  "anaconda-cloud": {},
  "kernelspec": {
   "display_name": "Python [default]",
   "language": "python",
   "name": "python3"
  },
  "language_info": {
   "codemirror_mode": {
    "name": "ipython",
    "version": 3
   },
   "file_extension": ".py",
   "mimetype": "text/x-python",
   "name": "python",
   "nbconvert_exporter": "python",
   "pygments_lexer": "ipython3",
   "version": "3.5.2"
  }
 },
 "nbformat": 4,
 "nbformat_minor": 0
}
