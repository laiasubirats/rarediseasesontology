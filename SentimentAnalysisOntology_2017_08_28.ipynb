{
 "cells": [
  {
   "cell_type": "code",
   "execution_count": 29,
   "metadata": {},
   "outputs": [],
   "source": [
    "#!pip install -U textblob\n",
    "#!python -m textblob.download_corpora\n",
    "#!pip install -U textblob-aptagger\n",
    "#import textblob\n",
    "import pandas\n",
    "from textblob import TextBlob\n",
    "import numpy as np"
   ]
  },
  {
   "cell_type": "code",
   "execution_count": 30,
   "metadata": {},
   "outputs": [],
   "source": [
    "testimonials = pandas.read_table('C:/Scenarios about Rare Diseases_2017_08_28.csv',encoding='ISO-8859-1',sep=';')\n",
    "linea_en_df = pandas.DataFrame(testimonials, columns=['Testimonials'])"
   ]
  },
  {
   "cell_type": "code",
   "execution_count": 31,
   "metadata": {},
   "outputs": [],
   "source": [
    "linea_en_df['polarity'] = linea_en_df.apply(lambda x: TextBlob(x['Testimonials']).sentiment.polarity, axis=1)\n",
    "linea_en_df['subjectivity'] = linea_en_df.apply(lambda x: TextBlob(x['Testimonials']).sentiment.subjectivity, axis=1)"
   ]
  },
  {
   "cell_type": "code",
   "execution_count": 32,
   "metadata": {},
   "outputs": [],
   "source": [
    "linea_en_df.to_csv(\"C:/Users/Laia/Desktop/Sentiment_testimonials.csv\", sep=';', na_rep='',header=True, encoding='ISO-8859-1')"
   ]
  },
  {
   "cell_type": "code",
   "execution_count": 33,
   "metadata": {},
   "outputs": [
    {
     "name": "stdout",
     "output_type": "stream",
     "text": [
      "(-0.15144316972814861, 0.4699050834569567)\n",
      "(-0.020836362616106142, 0.9212506159006304)\n",
      "Min:  1.0\n",
      "Max:  45.0\n",
      "Mean:  23.0\n",
      "Std:  11.17855089\n"
     ]
    }
   ],
   "source": [
    "from scipy import stats\n",
    "testimonials = pandas.read_table('C:/Scenarios about Rare Diseases_2017_08_28.csv',encoding='ISO-8859-1',sep=';')\n",
    "testimonials = testimonials.fillna(value=np.mean(testimonials,axis=0),inplace=False,axis=0).values\n",
    "#Age\n",
    "print(stats.pearsonr(testimonials[:,1], testimonials[:,-2]))\n",
    "print(stats.pearsonr(testimonials[:,1], testimonials[:,-1]))\n",
    "print(\"Min: \",np.min(testimonials[:,1]))\n",
    "print(\"Max: \",np.max(testimonials[:,1]))\n",
    "print(\"Mean: \",np.mean(testimonials[:,1]))\n",
    "print(\"Std: \", np.std(testimonials[:,1]))"
   ]
  },
  {
   "cell_type": "code",
   "execution_count": 34,
   "metadata": {},
   "outputs": [
    {
     "name": "stdout",
     "output_type": "stream",
     "text": [
      "(0.13400359192807407, 0.5230793423110156)\n",
      "(-0.010854530044444227, 0.95893074467414297)\n",
      "Min:  0\n",
      "Max:  1\n",
      "Mean:  0.68\n",
      "Std:  0.466476151588\n"
     ]
    }
   ],
   "source": [
    "#Spain\n",
    "print(stats.pearsonr(testimonials[:,3], testimonials[:,-2]))\n",
    "print(stats.pearsonr(testimonials[:,3], testimonials[:,-1]))\n",
    "print(\"Min: \",np.min(testimonials[:,3]))\n",
    "print(\"Max: \",np.max(testimonials[:,3]))\n",
    "print(\"Mean: \",np.mean(testimonials[:,3]))\n",
    "print(\"Std: \", np.std(testimonials[:,3]))"
   ]
  },
  {
   "cell_type": "code",
   "execution_count": 35,
   "metadata": {},
   "outputs": [
    {
     "name": "stdout",
     "output_type": "stream",
     "text": [
      "(-0.12013416626948521, 0.5673240964360553)\n",
      "(-0.2334999787283018, 0.2612912787279591)\n",
      "Min:  0\n",
      "Max:  1\n",
      "Mean:  0.12\n",
      "Std:  0.324961536185\n"
     ]
    }
   ],
   "source": [
    "#Iran\n",
    "print(stats.pearsonr(testimonials[:,4], testimonials[:,-2]))\n",
    "print(stats.pearsonr(testimonials[:,4], testimonials[:,-1]))\n",
    "print(\"Min: \",np.min(testimonials[:,4]))\n",
    "print(\"Max: \",np.max(testimonials[:,4]))\n",
    "print(\"Mean: \",np.mean(testimonials[:,4]))\n",
    "print(\"Std: \", np.std(testimonials[:,4]))"
   ]
  },
  {
   "cell_type": "code",
   "execution_count": 36,
   "metadata": {},
   "outputs": [
    {
     "name": "stdout",
     "output_type": "stream",
     "text": [
      "(-0.31078895350501834, 0.13050306269360848)\n",
      "(0.4016879149061654, 0.04655245244836808)\n",
      "Min:  0.0\n",
      "Max:  31.0\n",
      "Mean:  9.294117647058822\n",
      "Std:  8.1817587639\n"
     ]
    }
   ],
   "source": [
    "#Age of diagnosis\n",
    "print(stats.pearsonr(testimonials[:,6], testimonials[:,-2]))\n",
    "print(stats.pearsonr(testimonials[:,6], testimonials[:,-1]))\n",
    "print(\"Min: \",np.min(testimonials[:,6]))\n",
    "print(\"Max: \",np.max(testimonials[:,6]))\n",
    "print(\"Mean: \",np.mean(testimonials[:,6]))\n",
    "print(\"Std: \", np.std(testimonials[:,6]))"
   ]
  },
  {
   "cell_type": "code",
   "execution_count": 37,
   "metadata": {},
   "outputs": [
    {
     "name": "stdout",
     "output_type": "stream",
     "text": [
      "(-0.46507229801555483, 0.019152889390457294)\n",
      "(-0.071418039100824823, 0.73442735247746382)\n",
      "Min:  0.0\n",
      "Max:  4.0\n",
      "Mean:  0.7272727272727271\n",
      "Std:  1.02336343851\n"
     ]
    }
   ],
   "source": [
    "#Emotional functions\n",
    "print(stats.pearsonr(testimonials[:,12], testimonials[:,-2]))\n",
    "print(stats.pearsonr(testimonials[:,12], testimonials[:,-1]))\n",
    "print(\"Min: \",np.min(testimonials[:,12]))\n",
    "print(\"Max: \",np.max(testimonials[:,12]))\n",
    "print(\"Mean: \",np.mean(testimonials[:,12]))\n",
    "print(\"Std: \", np.std(testimonials[:,12]))"
   ]
  },
  {
   "cell_type": "code",
   "execution_count": 38,
   "metadata": {},
   "outputs": [
    {
     "name": "stdout",
     "output_type": "stream",
     "text": [
      "(-0.29826145749101346, 0.1475724009309663)\n",
      "(0.012126569106536365, 0.95412254400471452)\n",
      "Min:  0.0\n",
      "Max:  4.0\n",
      "Mean:  0.6666666666666664\n",
      "Std:  0.73029674334\n"
     ]
    }
   ],
   "source": [
    "#Remunerative employment\n",
    "print(stats.pearsonr(testimonials[:,10], testimonials[:,-2]))\n",
    "print(stats.pearsonr(testimonials[:,10], testimonials[:,-1]))\n",
    "print(\"Min: \",np.min(testimonials[:,10]))\n",
    "print(\"Max: \",np.max(testimonials[:,10]))\n",
    "print(\"Mean: \",np.mean(testimonials[:,10]))\n",
    "print(\"Std: \", np.std(testimonials[:,10]))"
   ]
  },
  {
   "cell_type": "code",
   "execution_count": null,
   "metadata": {
    "collapsed": true
   },
   "outputs": [],
   "source": []
  }
 ],
 "metadata": {
  "anaconda-cloud": {},
  "kernelspec": {
   "display_name": "Python 3",
   "language": "python",
   "name": "python3"
  }
 },
 "nbformat": 4,
 "nbformat_minor": 1
}
